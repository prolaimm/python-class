{
 "cells": [
  {
   "cell_type": "markdown",
   "metadata": {},
   "source": [
    "題目：使用While迴圈寫猜數字的遊戲\n",
    ".\n",
    ".\n",
    ".\n",
    "Sample:\n",
    "Enter your number 0 ~ 2 or (q)uit:  2\n",
    "ANS: 2 Your Number: 2\n",
    "YOU WIN ! ! !\n",
    "Enter your number 0 ~ 2 or (q)uit:  2\n",
    "ANS: 1 Your Number: 2\n",
    "Try Again\n",
    "Enter your number 0 ~ 2 or (q)uit:  3\n",
    "Please Enter number 0 ~ 2 or q to quit\n",
    "Enter your number 0 ~ 2 or (q)uit:  w\n",
    "Please Enter number\n",
    "Enter your number 0 ~ 2 or (q)uit:  q\n"
   ]
  },
  {
   "cell_type": "code",
   "execution_count": 25,
   "metadata": {},
   "outputs": [
    {
     "name": "stdin",
     "output_type": "stream",
     "text": [
      "Enter your number 0 ~ 2 or (q)uit:  2\n"
     ]
    },
    {
     "name": "stdout",
     "output_type": "stream",
     "text": [
      "ANS: 2 Your Number: 2\n",
      "YOU WIN ! ! !\n"
     ]
    },
    {
     "name": "stdin",
     "output_type": "stream",
     "text": [
      "Enter your number 0 ~ 2 or (q)uit:  2\n"
     ]
    },
    {
     "name": "stdout",
     "output_type": "stream",
     "text": [
      "ANS: 1 Your Number: 2\n",
      "Try Again\n"
     ]
    },
    {
     "name": "stdin",
     "output_type": "stream",
     "text": [
      "Enter your number 0 ~ 2 or (q)uit:  3\n"
     ]
    },
    {
     "name": "stdout",
     "output_type": "stream",
     "text": [
      "Please Enter number 0 ~ 2 or q to quit\n"
     ]
    },
    {
     "name": "stdin",
     "output_type": "stream",
     "text": [
      "Enter your number 0 ~ 2 or (q)uit:  w\n"
     ]
    },
    {
     "name": "stdout",
     "output_type": "stream",
     "text": [
      "Please Enter number\n"
     ]
    },
    {
     "name": "stdin",
     "output_type": "stream",
     "text": [
      "Enter your number 0 ~ 2 or (q)uit:  q\n"
     ]
    }
   ],
   "source": [
    "import random\n",
    "player = []\n",
    "computer = []\n",
    "minimum = 0\n",
    "maximum = 2\n",
    "\n",
    "#程式開始跑=進入迴圈\n",
    "while True:\n",
    "    #輸入數字\n",
    "    select_num = input(\"Enter your number 0 ~ 2 or (q)uit: \")\n",
    "    #判斷是否為數字\n",
    "    if select_num.isdigit():\n",
    "        #string 轉 int\n",
    "        select_num = int(select_num)\n",
    "        if select_num in range(3):\n",
    "            ans =  random.randrange(3)\n",
    "            print(f'ANS: {ans} Your Number: {select_num}')\n",
    "            if select_num != ans:\n",
    "                print(\"Try Again\")\n",
    "            else:\n",
    "                print(\"YOU WIN ! ! !\" )\n",
    "            #player.append(int(select_num))\n",
    "            #computer.append(ans)\n",
    "            #print(player)\n",
    "            #print(computer)\n",
    "        else:\n",
    "            select_num = int(select_num)\n",
    "            print(\"Please Enter number 0 ~ 2 or q to quit\")\n",
    "            \n",
    "    elif select_num == 'q':\n",
    "        break\n",
    "    else:\n",
    "        print(\"Please Enter number\")"
   ]
  }
 ],
 "metadata": {
  "kernelspec": {
   "display_name": "Python 3",
   "language": "python",
   "name": "python3"
  },
  "language_info": {
   "codemirror_mode": {
    "name": "ipython",
    "version": 3
   },
   "file_extension": ".py",
   "mimetype": "text/x-python",
   "name": "python",
   "nbconvert_exporter": "python",
   "pygments_lexer": "ipython3",
   "version": "3.8.3"
  }
 },
 "nbformat": 4,
 "nbformat_minor": 4
}
